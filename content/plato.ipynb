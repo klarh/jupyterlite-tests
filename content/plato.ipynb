{
  "metadata": {
    "language_info": {
      "codemirror_mode": {
        "name": "python",
        "version": 3
      },
      "file_extension": ".py",
      "mimetype": "text/x-python",
      "name": "python",
      "nbconvert_exporter": "python",
      "pygments_lexer": "ipython3",
      "version": "3.8"
    },
    "kernelspec": {
      "name": "python",
      "display_name": "Python (Pyodide)",
      "language": "python"
    }
  },
  "nbformat_minor": 4,
  "nbformat": 4,
  "cells": [
    {
      "cell_type": "code",
      "source": "%pip install -q plato\n%pip install -q pythreejs",
      "metadata": {
        "trusted": true
      },
      "execution_count": null,
      "outputs": []
    },
    {
      "cell_type": "code",
      "source": "import numpy as np\nimport itertools\n\ndef colored_spheres(num_per_side=6):\n    xs = np.arange(num_per_side).astype(np.float32)\n    rs = np.array(list(itertools.product(*(3*[xs]))))\n    rs = np.concatenate([rs, rs + .5], axis=0)\n\n    colors = np.ones((rs.shape[0], 4))\n    colors[:, :3] = rs/(num_per_side - 1)\n    diameters = np.ones((rs.shape[0],))/np.sqrt(2)\n    rs -= np.mean(rs, axis=0, keepdims=True)\n\n    prim = draw.Spheres(positions=rs, colors=colors, diameters=diameters, outline=.02)\n    features = dict(ambient_light=.25)\n    features['directional_light'] = .5*np.array([(.5, .25, -.5), (0, -.25, -.25)])\n    rotation = [0.43797198, -0.4437895 ,  0.08068451,  0.7776423]\n    return draw.Scene(prim, features=features, zoom=4, rotation=rotation)",
      "metadata": {
        "trusted": true
      },
      "execution_count": null,
      "outputs": []
    },
    {
      "cell_type": "code",
      "source": "import plato, plato.draw.pythreejs as draw\nscene = colored_spheres()\nscene.show()",
      "metadata": {
        "trusted": true
      },
      "execution_count": null,
      "outputs": []
    },
    {
      "cell_type": "code",
      "source": "import plato, plato.draw.zdog as draw\nscene = colored_spheres()\nscene.show()",
      "metadata": {
        "trusted": true
      },
      "execution_count": null,
      "outputs": []
    },
    {
      "cell_type": "code",
      "source": "",
      "metadata": {},
      "execution_count": null,
      "outputs": []
    }
  ]
}